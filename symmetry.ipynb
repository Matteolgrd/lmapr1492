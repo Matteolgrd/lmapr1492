{
 "cells": [
  {
   "cell_type": "code",
   "execution_count": 1,
   "id": "408a54e4",
   "metadata": {},
   "outputs": [],
   "source": [
    "from pymatgen.ext.matproj import MPRester\n",
    "from pymatgen.io.cif import CifWriter\n",
    "from pymatgen.core.operations import SymmOp\n",
    "from pymatgen.io.cif import *\n",
    "from pymatgen.core.operations import *\n",
    "from tabulate import tabulate\n",
    "from pymatgen.symmetry.site_symmetries import *\n",
    "import matplotlib.pyplot as plt\n",
    "from pymatgen.symmetry.analyzer import SpacegroupAnalyzer\n",
    "from jupyter_jsmol.pymatgen import quick_view"
   ]
  },
  {
   "cell_type": "code",
   "execution_count": 2,
   "id": "06b848b0",
   "metadata": {},
   "outputs": [],
   "source": [
    "mp_key = \"u9ZAHMoFazUCz7neZTBfXBwCZ5RESH4Z\"\n",
    "mp_id = \"mp-567636\""
   ]
  },
  {
   "cell_type": "code",
   "execution_count": 3,
   "id": "99356433",
   "metadata": {},
   "outputs": [
    {
     "data": {
      "application/vnd.jupyter.widget-view+json": {
       "model_id": "f5273617f3384271a6c7fe584bb20016",
       "version_major": 2,
       "version_minor": 0
      },
      "text/plain": [
       "Retrieving MaterialsDoc documents:   0%|          | 0/1 [00:00<?, ?it/s]"
      ]
     },
     "metadata": {},
     "output_type": "display_data"
    }
   ],
   "source": [
    "structure = MPRester(mp_key).get_structure_by_material_id(mp_id)\n",
    "conv_struc = SpacegroupAnalyzer(structure).get_conventional_standard_structure()\n",
    "symmops = SpacegroupAnalyzer(conv_struc).get_space_group_operations()"
   ]
  },
  {
   "cell_type": "code",
   "execution_count": 4,
   "id": "e3bf9828",
   "metadata": {},
   "outputs": [
    {
     "name": "stdout",
     "output_type": "stream",
     "text": [
      "structure de la maille\n"
     ]
    },
    {
     "data": {
      "application/vnd.jupyter.widget-view+json": {
       "model_id": "a5a3bd70c8ed477698213a5080b9c114",
       "version_major": 2,
       "version_minor": 0
      },
      "text/plain": [
       "JsmolView(layout=Layout(align_self='stretch', height='400px'))"
      ]
     },
     "metadata": {},
     "output_type": "display_data"
    }
   ],
   "source": [
    "print(\"structure de la maille\")\n",
    "view = quick_view(conv_struc, \"packed\", conventional = True)\n",
    "display(view)\n",
    "view.script('rotate on')"
   ]
  },
  {
   "cell_type": "code",
   "execution_count": 5,
   "id": "171e6a1f",
   "metadata": {},
   "outputs": [
    {
     "name": "stdout",
     "output_type": "stream",
     "text": [
      "nb d'atomes: 11\n",
      "F-43m (216) spacegroup\n"
     ]
    }
   ],
   "source": [
    "print(\"nb d'atomes: \" + str(len(conv_struc.sites)-1))\n",
    "\n",
    "#les 3 opérations de symetries et les 3 atomes\n",
    "i_atom1, i_atom2, i_atom3 = 5,7,2\n",
    "i_symmop1, i_symmop2, i_symmop3 = 3,4,11\n",
    "print(symmops)"
   ]
  },
  {
   "cell_type": "code",
   "execution_count": 6,
   "id": "ab0e6242",
   "metadata": {
    "scrolled": true
   },
   "outputs": [
    {
     "name": "stdout",
     "output_type": "stream",
     "text": [
      "rotation C2 sans translation (autour de l'axe [1, 1, 1]) \n",
      "\n",
      "La matrices de rotation et le vecteur de translation sont\n",
      "Rot:\n",
      "[[-1.  0.  0.]\n",
      " [ 0. -1.  0.]\n",
      " [ 0.  0.  1.]]\n",
      "tau\n",
      "[0. 0. 0.] \n",
      "\n",
      "Les coordonnées initial de l'atome sont\n",
      "[0.75 0.25 0.75] \n",
      "\n",
      "Apres l'opération de symmétrie, ces coordonnées sont\n",
      "[-0.75 -0.25  0.75] \n",
      "\n",
      "8 [0.25 0.75 0.75]\n"
     ]
    },
    {
     "data": {
      "application/vnd.jupyter.widget-view+json": {
       "model_id": "0c450bad75c24ed3b246326cab0b07c1",
       "version_major": 2,
       "version_minor": 0
      },
      "text/plain": [
       "JsmolView(layout=Layout(align_self='stretch', height='400px'))"
      ]
     },
     "metadata": {},
     "output_type": "display_data"
    }
   ],
   "source": [
    "#première symétrie\n",
    "symmop1 = symmops[i_symmop1 - 1]\n",
    "print(\"rotation C2 sans translation (autour de l'axe [1, 1, 1]) \\n\")\n",
    "print(\"La matrices de rotation et le vecteur de translation sont\")\n",
    "print(symmop1,\"\\n\")\n",
    "\n",
    "print(\"Les coordonnées initial de l'atome sont\")\n",
    "pos_init = conv_struc.sites[i_atom1 -1].frac_coords\n",
    "print(pos_init,\"\\n\")\n",
    "\n",
    "print(\"Apres l'opération de symmétrie, ces coordonnées sont\")\n",
    "pos_final = symmop1.operate(pos_init)\n",
    "print(pos_final,\"\\n\")\n",
    "\n",
    "#ce code parcourt tous les atomes de la structure atomique, compare leurs coordonnées \n",
    "#fractionnaires avec une position finale, et imprime les coordonnées de l'atome correspondant s'il est trouvé.\n",
    "for k_atom, site in enumerate(conv_struc.sites):\n",
    "    if np.linalg.norm((site.frac_coords - pos_final)%1) < 1e-6:\n",
    "        j_atom = k_atom + 1\n",
    "print(j_atom, conv_struc.sites[j_atom -1].frac_coords)\n",
    "\n",
    "view1 = quick_view(structure, \"packed\", conventional = True)\n",
    "display(view1)\n",
    "view1.script('draw SYMOP ' + str(i_symmop1) + ' {atomno = ' + str(i_atom1) + '}')"
   ]
  },
  {
   "cell_type": "code",
   "execution_count": 7,
   "id": "2abaa822",
   "metadata": {
    "scrolled": true
   },
   "outputs": [
    {
     "name": "stdout",
     "output_type": "stream",
     "text": [
      "rotation C4 sans rotation (autour de l'axe [0, 0, 1]) \n",
      "\n",
      "La matrices de rotation et le vecteur de translation sont\n",
      "Rot:\n",
      "[[ 0. -1.  0.]\n",
      " [ 1.  0.  0.]\n",
      " [ 0.  0. -1.]]\n",
      "tau\n",
      "[0. 0. 0.] \n",
      "\n",
      "Les coordonnées initial de l'atome sont\n",
      "[0.25 0.25 0.25] \n",
      "\n",
      "Apres l'opération de symmétrie, ces coordonnées sont\n",
      "[-0.25  0.25 -0.25] \n",
      "\n",
      "5 [0.75 0.25 0.75]\n"
     ]
    },
    {
     "data": {
      "application/vnd.jupyter.widget-view+json": {
       "model_id": "4c68294a6b0d4ec2af78d8c278ab7c15",
       "version_major": 2,
       "version_minor": 0
      },
      "text/plain": [
       "JsmolView(layout=Layout(align_self='stretch', height='400px'))"
      ]
     },
     "metadata": {},
     "output_type": "display_data"
    }
   ],
   "source": [
    "#deuxième symétrie\n",
    "symmop2 = symmops[i_symmop2 - 1]\n",
    "print(\"rotation C4 sans rotation (autour de l'axe [0, 0, 1]) \\n\")\n",
    "print(\"La matrices de rotation et le vecteur de translation sont\")\n",
    "print(symmop2,\"\\n\")\n",
    "\n",
    "print(\"Les coordonnées initial de l'atome sont\")\n",
    "pos_init = conv_struc.sites[i_atom2 -1].frac_coords\n",
    "print(pos_init,\"\\n\")\n",
    "\n",
    "print(\"Apres l'opération de symmétrie, ces coordonnées sont\")\n",
    "pos_final = symmop2.operate(pos_init)\n",
    "print(pos_final,\"\\n\")\n",
    "\n",
    "#ce code parcourt tous les atomes de la atomique, compare leurs coordonnées \n",
    "#fractionnaires avec une position finale, et imprime les coordonnées de l'atome correspondant s'il est trouvé.\n",
    "for k_atom, site in enumerate(conv_struc.sites):\n",
    "    if np.linalg.norm((site.frac_coords - pos_final)%1) < 1e-6:\n",
    "        j_atom = k_atom + 1\n",
    "print(j_atom, conv_struc.sites[j_atom -1].frac_coords)\n",
    "\n",
    "view2 = quick_view(structure, \"packed\", conventional = True)\n",
    "display(view2)\n",
    "view2.script('draw SYMOP ' + str(i_symmop2) + ' {atomno = ' + str(i_atom2) + '}')"
   ]
  },
  {
   "cell_type": "code",
   "execution_count": 8,
   "id": "571b6e6d",
   "metadata": {
    "scrolled": true
   },
   "outputs": [
    {
     "name": "stdout",
     "output_type": "stream",
     "text": [
      "rotation C3 sans translation (autour de l'axe [1, 1, 1])\n",
      "La matrices de rotation et le vecteur de translation sont\n",
      "Rot:\n",
      "[[ 0.  0.  1.]\n",
      " [-1.  0.  0.]\n",
      " [ 0. -1.  0.]]\n",
      "tau\n",
      "[0. 0. 0.] \n",
      "\n",
      "Les coordonnées initial de l'atome sont\n",
      "[0.  0.5 0.5] \n",
      "\n",
      "Apres l'opération de symmétrie, ces coordonnées sont\n",
      "[ 0.5  0.  -0.5] \n",
      "\n",
      "3 [0.5 0.  0.5]\n"
     ]
    },
    {
     "data": {
      "application/vnd.jupyter.widget-view+json": {
       "model_id": "98541262ad1343b1a7e50a0fec0fb3ae",
       "version_major": 2,
       "version_minor": 0
      },
      "text/plain": [
       "JsmolView(layout=Layout(align_self='stretch', height='400px'))"
      ]
     },
     "metadata": {},
     "output_type": "display_data"
    }
   ],
   "source": [
    "#troisième symétrie\n",
    "symmop3 = symmops[i_symmop3 - 1]\n",
    "print(\"rotation C3 sans translation (autour de l'axe [1, 1, 1])\")\n",
    "print(\"La matrices de rotation et le vecteur de translation sont\")\n",
    "print(symmop3,\"\\n\")\n",
    "\n",
    "print(\"Les coordonnées initial de l'atome sont\")\n",
    "pos_init = conv_struc.sites[i_atom3 - 1].frac_coords\n",
    "print(pos_init,\"\\n\")\n",
    "\n",
    "print(\"Apres l'opération de symmétrie, ces coordonnées sont\")\n",
    "pos_final = symmop3.operate(pos_init)\n",
    "print(pos_final,\"\\n\")\n",
    "\n",
    "#ce code parcourt tous les atomes de la structure atomique, compare leurs coordonnées \n",
    "#fractionnaires avec une position finale, et imprime les coordonnées de l'atome correspondant s'il est trouvé.\n",
    "for k_atom, site in enumerate(conv_struc.sites):\n",
    "    if np.linalg.norm((site.frac_coords - pos_final)%1) < 1e-6:\n",
    "        j_atom = k_atom + 1\n",
    "print(j_atom, conv_struc.sites[j_atom -1].frac_coords)\n",
    "\n",
    "view3 = quick_view(conv_struc, \"packed\", conventional = True)\n",
    "display(view3)\n",
    "view3.script('draw SYMOP ' + str(i_symmop3) + ' {atomno = ' + str(i_atom3) + '}')"
   ]
  }
 ],
 "metadata": {
  "kernelspec": {
   "display_name": "Python 3 (ipykernel)",
   "language": "python",
   "name": "python3"
  },
  "language_info": {
   "codemirror_mode": {
    "name": "ipython",
    "version": 3
   },
   "file_extension": ".py",
   "mimetype": "text/x-python",
   "name": "python",
   "nbconvert_exporter": "python",
   "pygments_lexer": "ipython3",
   "version": "3.9.13"
  }
 },
 "nbformat": 4,
 "nbformat_minor": 5
}
