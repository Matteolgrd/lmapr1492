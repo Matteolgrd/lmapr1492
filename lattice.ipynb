{
 "cells": [
  {
   "cell_type": "code",
   "execution_count": 1,
   "id": "1e950628",
   "metadata": {},
   "outputs": [
    {
     "name": "stdout",
     "output_type": "stream",
     "text": [
      "Defaulting to user installation because normal site-packages is not writeable\n",
      "Requirement already satisfied: mp-api in ./.local/lib/python3.9/site-packages (0.40.1)\n",
      "Requirement already satisfied: setuptools in /usr/lib/python3.9/site-packages (from mp-api) (50.3.2)\n",
      "Requirement already satisfied: msgpack in /usr/local/lib64/python3.9/site-packages (from mp-api) (1.0.7)\n",
      "Requirement already satisfied: maggma>=0.57.1 in ./.local/lib/python3.9/site-packages (from mp-api) (0.63.3)\n",
      "Requirement already satisfied: pymatgen<2024.2.20,>=2022.3.7 in ./.local/lib/python3.9/site-packages (from mp-api) (2024.2.8)\n",
      "Requirement already satisfied: typing-extensions>=3.7.4.1 in /usr/local/lib/python3.9/site-packages (from mp-api) (4.8.0)\n",
      "Requirement already satisfied: requests>=2.23.0 in /usr/local/lib/python3.9/site-packages (from mp-api) (2.31.0)\n",
      "Requirement already satisfied: monty>=2023.9.25 in ./.local/lib/python3.9/site-packages (from mp-api) (2024.2.26)\n",
      "Requirement already satisfied: emmet-core>=0.78.0rc3 in ./.local/lib/python3.9/site-packages (from mp-api) (0.78.0rc4)\n",
      "Requirement already satisfied: pydantic>=2.0 in /usr/local/lib/python3.9/site-packages (from emmet-core>=0.78.0rc3->mp-api) (2.4.2)\n",
      "Requirement already satisfied: pydantic-settings>=2.0 in /usr/local/lib/python3.9/site-packages (from emmet-core>=0.78.0rc3->mp-api) (2.0.3)\n",
      "Requirement already satisfied: pybtex~=0.24 in /usr/local/lib/python3.9/site-packages (from emmet-core>=0.78.0rc3->mp-api) (0.24.0)\n",
      "Requirement already satisfied: ruamel.yaml<0.18 in /usr/local/lib/python3.9/site-packages (from maggma>=0.57.1->mp-api) (0.17.33)\n",
      "Requirement already satisfied: pymongo>=4.2.0 in /usr/local/lib64/python3.9/site-packages (from maggma>=0.57.1->mp-api) (4.5.0)\n",
      "Requirement already satisfied: mongomock>=3.10.0 in /usr/local/lib/python3.9/site-packages (from maggma>=0.57.1->mp-api) (4.1.2)\n",
      "Requirement already satisfied: pydash>=4.1.0 in /usr/local/lib/python3.9/site-packages (from maggma>=0.57.1->mp-api) (7.0.6)\n",
      "Requirement already satisfied: jsonschema>=3.1.1 in /usr/local/lib/python3.9/site-packages (from maggma>=0.57.1->mp-api) (4.19.1)\n",
      "Requirement already satisfied: tqdm>=4.19.6 in /usr/local/lib/python3.9/site-packages (from maggma>=0.57.1->mp-api) (4.66.1)\n",
      "Requirement already satisfied: mongogrant>=0.3.1 in /usr/local/lib/python3.9/site-packages (from maggma>=0.57.1->mp-api) (0.3.3)\n",
      "Requirement already satisfied: aioitertools>=0.5.1 in /usr/local/lib/python3.9/site-packages (from maggma>=0.57.1->mp-api) (0.11.0)\n",
      "Requirement already satisfied: numpy>=1.17.3 in /usr/local/lib64/python3.9/site-packages (from maggma>=0.57.1->mp-api) (1.26.0)\n",
      "Requirement already satisfied: fastapi>=0.42.0 in /usr/local/lib/python3.9/site-packages (from maggma>=0.57.1->mp-api) (0.103.2)\n",
      "Requirement already satisfied: pyzmq>=24.0.1 in /usr/local/lib64/python3.9/site-packages (from maggma>=0.57.1->mp-api) (24.0.1)\n",
      "Requirement already satisfied: dnspython>=1.16.0 in /usr/local/lib/python3.9/site-packages (from maggma>=0.57.1->mp-api) (2.4.2)\n",
      "Requirement already satisfied: sshtunnel>=0.1.5 in /usr/local/lib/python3.9/site-packages (from maggma>=0.57.1->mp-api) (0.4.0)\n",
      "Requirement already satisfied: orjson>=3.9.0 in /usr/local/lib64/python3.9/site-packages (from maggma>=0.57.1->mp-api) (3.9.7)\n",
      "Requirement already satisfied: boto3>=1.20.41 in /usr/local/lib/python3.9/site-packages (from maggma>=0.57.1->mp-api) (1.28.58)\n",
      "Requirement already satisfied: python-dateutil>=2.8.2 in /usr/local/lib/python3.9/site-packages (from maggma>=0.57.1->mp-api) (2.8.2)\n",
      "Requirement already satisfied: uvicorn>=0.18.3 in /usr/local/lib/python3.9/site-packages (from maggma>=0.57.1->mp-api) (0.23.2)\n",
      "Requirement already satisfied: matplotlib>=1.5 in /usr/local/lib64/python3.9/site-packages (from pymatgen<2024.2.20,>=2022.3.7->mp-api) (3.8.0)\n",
      "Requirement already satisfied: networkx>=2.2 in /usr/local/lib/python3.9/site-packages (from pymatgen<2024.2.20,>=2022.3.7->mp-api) (3.1)\n",
      "Requirement already satisfied: palettable>=3.1.1 in /usr/local/lib/python3.9/site-packages (from pymatgen<2024.2.20,>=2022.3.7->mp-api) (3.3.3)\n",
      "Requirement already satisfied: pandas in /usr/local/lib64/python3.9/site-packages (from pymatgen<2024.2.20,>=2022.3.7->mp-api) (2.1.1)\n",
      "Requirement already satisfied: plotly>=4.5.0 in /usr/local/lib/python3.9/site-packages (from pymatgen<2024.2.20,>=2022.3.7->mp-api) (5.17.0)\n",
      "Requirement already satisfied: scipy>=1.5.0 in /usr/local/lib64/python3.9/site-packages (from pymatgen<2024.2.20,>=2022.3.7->mp-api) (1.11.3)\n",
      "Requirement already satisfied: spglib>=2.0.2 in /usr/local/lib64/python3.9/site-packages (from pymatgen<2024.2.20,>=2022.3.7->mp-api) (2.1.0)\n",
      "Requirement already satisfied: sympy in /usr/local/lib/python3.9/site-packages (from pymatgen<2024.2.20,>=2022.3.7->mp-api) (1.12)\n",
      "Requirement already satisfied: tabulate in /usr/local/lib/python3.9/site-packages (from pymatgen<2024.2.20,>=2022.3.7->mp-api) (0.9.0)\n",
      "Requirement already satisfied: uncertainties>=3.1.4 in /usr/local/lib/python3.9/site-packages (from pymatgen<2024.2.20,>=2022.3.7->mp-api) (3.1.7)\n",
      "Requirement already satisfied: joblib in /usr/local/lib/python3.9/site-packages (from pymatgen<2024.2.20,>=2022.3.7->mp-api) (1.3.2)\n",
      "Requirement already satisfied: charset-normalizer<4,>=2 in /usr/local/lib64/python3.9/site-packages (from requests>=2.23.0->mp-api) (3.3.0)\n",
      "Requirement already satisfied: idna<4,>=2.5 in /usr/local/lib/python3.9/site-packages (from requests>=2.23.0->mp-api) (3.4)\n",
      "Requirement already satisfied: urllib3<3,>=1.21.1 in /usr/local/lib/python3.9/site-packages (from requests>=2.23.0->mp-api) (1.26.17)\n",
      "Requirement already satisfied: certifi>=2017.4.17 in /usr/local/lib/python3.9/site-packages (from requests>=2.23.0->mp-api) (2023.7.22)\n",
      "Requirement already satisfied: botocore<1.32.0,>=1.31.58 in /usr/local/lib/python3.9/site-packages (from boto3>=1.20.41->maggma>=0.57.1->mp-api) (1.31.58)\n",
      "Requirement already satisfied: jmespath<2.0.0,>=0.7.1 in /usr/local/lib/python3.9/site-packages (from boto3>=1.20.41->maggma>=0.57.1->mp-api) (1.0.1)\n",
      "Requirement already satisfied: s3transfer<0.8.0,>=0.7.0 in /usr/local/lib/python3.9/site-packages (from boto3>=1.20.41->maggma>=0.57.1->mp-api) (0.7.0)\n",
      "Requirement already satisfied: anyio<4.0.0,>=3.7.1 in /usr/local/lib/python3.9/site-packages (from fastapi>=0.42.0->maggma>=0.57.1->mp-api) (3.7.1)\n",
      "Requirement already satisfied: starlette<0.28.0,>=0.27.0 in /usr/local/lib/python3.9/site-packages (from fastapi>=0.42.0->maggma>=0.57.1->mp-api) (0.27.0)\n",
      "Requirement already satisfied: attrs>=22.2.0 in /usr/local/lib/python3.9/site-packages (from jsonschema>=3.1.1->maggma>=0.57.1->mp-api) (23.1.0)\n",
      "Requirement already satisfied: jsonschema-specifications>=2023.03.6 in /usr/local/lib/python3.9/site-packages (from jsonschema>=3.1.1->maggma>=0.57.1->mp-api) (2023.7.1)\n",
      "Requirement already satisfied: referencing>=0.28.4 in /usr/local/lib/python3.9/site-packages (from jsonschema>=3.1.1->maggma>=0.57.1->mp-api) (0.30.2)\n",
      "Requirement already satisfied: rpds-py>=0.7.1 in /usr/local/lib64/python3.9/site-packages (from jsonschema>=3.1.1->maggma>=0.57.1->mp-api) (0.10.3)\n",
      "Requirement already satisfied: contourpy>=1.0.1 in /usr/local/lib64/python3.9/site-packages (from matplotlib>=1.5->pymatgen<2024.2.20,>=2022.3.7->mp-api) (1.1.1)\n",
      "Requirement already satisfied: cycler>=0.10 in /usr/local/lib/python3.9/site-packages (from matplotlib>=1.5->pymatgen<2024.2.20,>=2022.3.7->mp-api) (0.12.0)\n",
      "Requirement already satisfied: fonttools>=4.22.0 in /usr/local/lib64/python3.9/site-packages (from matplotlib>=1.5->pymatgen<2024.2.20,>=2022.3.7->mp-api) (4.43.0)\n",
      "Requirement already satisfied: kiwisolver>=1.0.1 in /usr/local/lib64/python3.9/site-packages (from matplotlib>=1.5->pymatgen<2024.2.20,>=2022.3.7->mp-api) (1.4.5)\n",
      "Requirement already satisfied: packaging>=20.0 in /usr/local/lib/python3.9/site-packages (from matplotlib>=1.5->pymatgen<2024.2.20,>=2022.3.7->mp-api) (23.2)\n",
      "Requirement already satisfied: pillow>=6.2.0 in /usr/local/lib64/python3.9/site-packages (from matplotlib>=1.5->pymatgen<2024.2.20,>=2022.3.7->mp-api) (10.0.1)\n",
      "Requirement already satisfied: pyparsing>=2.3.1 in /usr/local/lib/python3.9/site-packages (from matplotlib>=1.5->pymatgen<2024.2.20,>=2022.3.7->mp-api) (3.1.1)\n",
      "Requirement already satisfied: importlib-resources>=3.2.0 in /usr/local/lib/python3.9/site-packages (from matplotlib>=1.5->pymatgen<2024.2.20,>=2022.3.7->mp-api) (6.1.0)\n",
      "Requirement already satisfied: Click in /usr/local/lib/python3.9/site-packages (from mongogrant>=0.3.1->maggma>=0.57.1->mp-api) (8.1.7)\n",
      "Requirement already satisfied: Flask>=1.0 in /usr/local/lib/python3.9/site-packages (from mongogrant>=0.3.1->maggma>=0.57.1->mp-api) (3.0.0)\n",
      "Requirement already satisfied: sentinels in /usr/local/lib/python3.9/site-packages (from mongomock>=3.10.0->maggma>=0.57.1->mp-api) (1.0.0)\n",
      "Requirement already satisfied: tenacity>=6.2.0 in /usr/local/lib/python3.9/site-packages (from plotly>=4.5.0->pymatgen<2024.2.20,>=2022.3.7->mp-api) (8.2.3)\n",
      "Requirement already satisfied: PyYAML>=3.01 in /usr/local/lib64/python3.9/site-packages (from pybtex~=0.24->emmet-core>=0.78.0rc3->mp-api) (6.0.1)\n",
      "Requirement already satisfied: latexcodec>=1.0.4 in /usr/local/lib/python3.9/site-packages (from pybtex~=0.24->emmet-core>=0.78.0rc3->mp-api) (2.0.1)\n",
      "Requirement already satisfied: six in /usr/local/lib/python3.9/site-packages (from pybtex~=0.24->emmet-core>=0.78.0rc3->mp-api) (1.16.0)\n",
      "Requirement already satisfied: annotated-types>=0.4.0 in /usr/local/lib/python3.9/site-packages (from pydantic>=2.0->emmet-core>=0.78.0rc3->mp-api) (0.5.0)\n",
      "Requirement already satisfied: pydantic-core==2.10.1 in /usr/local/lib64/python3.9/site-packages (from pydantic>=2.0->emmet-core>=0.78.0rc3->mp-api) (2.10.1)\n",
      "Requirement already satisfied: python-dotenv>=0.21.0 in /usr/local/lib/python3.9/site-packages (from pydantic-settings>=2.0->emmet-core>=0.78.0rc3->mp-api) (1.0.0)\n",
      "Requirement already satisfied: ruamel.yaml.clib>=0.2.7 in /usr/local/lib64/python3.9/site-packages (from ruamel.yaml<0.18->maggma>=0.57.1->mp-api) (0.2.7)\n",
      "Requirement already satisfied: paramiko>=2.7.2 in /usr/local/lib/python3.9/site-packages (from sshtunnel>=0.1.5->maggma>=0.57.1->mp-api) (3.3.1)\n",
      "Requirement already satisfied: future in /usr/local/lib/python3.9/site-packages (from uncertainties>=3.1.4->pymatgen<2024.2.20,>=2022.3.7->mp-api) (0.18.3)\n",
      "Requirement already satisfied: h11>=0.8 in /usr/local/lib/python3.9/site-packages (from uvicorn>=0.18.3->maggma>=0.57.1->mp-api) (0.14.0)\n",
      "Requirement already satisfied: pytz>=2020.1 in /usr/local/lib/python3.9/site-packages (from pandas->pymatgen<2024.2.20,>=2022.3.7->mp-api) (2023.3.post1)\n",
      "Requirement already satisfied: tzdata>=2022.1 in /usr/local/lib/python3.9/site-packages (from pandas->pymatgen<2024.2.20,>=2022.3.7->mp-api) (2023.3)\n",
      "Requirement already satisfied: mpmath>=0.19 in /usr/local/lib/python3.9/site-packages (from sympy->pymatgen<2024.2.20,>=2022.3.7->mp-api) (1.3.0)\n",
      "Requirement already satisfied: sniffio>=1.1 in /usr/local/lib/python3.9/site-packages (from anyio<4.0.0,>=3.7.1->fastapi>=0.42.0->maggma>=0.57.1->mp-api) (1.3.0)\n",
      "Requirement already satisfied: exceptiongroup in /usr/local/lib/python3.9/site-packages (from anyio<4.0.0,>=3.7.1->fastapi>=0.42.0->maggma>=0.57.1->mp-api) (1.1.3)\n",
      "Requirement already satisfied: Werkzeug>=3.0.0 in /usr/local/lib/python3.9/site-packages (from Flask>=1.0->mongogrant>=0.3.1->maggma>=0.57.1->mp-api) (3.0.0)\n",
      "Requirement already satisfied: Jinja2>=3.1.2 in /usr/local/lib/python3.9/site-packages (from Flask>=1.0->mongogrant>=0.3.1->maggma>=0.57.1->mp-api) (3.1.2)\n",
      "Requirement already satisfied: itsdangerous>=2.1.2 in /usr/local/lib/python3.9/site-packages (from Flask>=1.0->mongogrant>=0.3.1->maggma>=0.57.1->mp-api) (2.1.2)\n",
      "Requirement already satisfied: blinker>=1.6.2 in /usr/local/lib/python3.9/site-packages (from Flask>=1.0->mongogrant>=0.3.1->maggma>=0.57.1->mp-api) (1.6.2)\n",
      "Requirement already satisfied: importlib-metadata>=3.6.0 in /usr/local/lib/python3.9/site-packages (from Flask>=1.0->mongogrant>=0.3.1->maggma>=0.57.1->mp-api) (6.8.0)\n",
      "Requirement already satisfied: zipp>=3.1.0 in /usr/local/lib/python3.9/site-packages (from importlib-resources>=3.2.0->matplotlib>=1.5->pymatgen<2024.2.20,>=2022.3.7->mp-api) (3.17.0)\n",
      "Requirement already satisfied: bcrypt>=3.2 in /usr/local/lib64/python3.9/site-packages (from paramiko>=2.7.2->sshtunnel>=0.1.5->maggma>=0.57.1->mp-api) (4.0.1)\n",
      "Requirement already satisfied: cryptography>=3.3 in /usr/local/lib64/python3.9/site-packages (from paramiko>=2.7.2->sshtunnel>=0.1.5->maggma>=0.57.1->mp-api) (41.0.4)\n",
      "Requirement already satisfied: pynacl>=1.5 in /usr/local/lib64/python3.9/site-packages (from paramiko>=2.7.2->sshtunnel>=0.1.5->maggma>=0.57.1->mp-api) (1.5.0)\n",
      "Requirement already satisfied: cffi>=1.12 in /usr/local/lib64/python3.9/site-packages (from cryptography>=3.3->paramiko>=2.7.2->sshtunnel>=0.1.5->maggma>=0.57.1->mp-api) (1.16.0)\n",
      "Requirement already satisfied: MarkupSafe>=2.0 in /usr/local/lib64/python3.9/site-packages (from Jinja2>=3.1.2->Flask>=1.0->mongogrant>=0.3.1->maggma>=0.57.1->mp-api) (2.1.3)\n",
      "Requirement already satisfied: pycparser in /usr/local/lib/python3.9/site-packages (from cffi>=1.12->cryptography>=3.3->paramiko>=2.7.2->sshtunnel>=0.1.5->maggma>=0.57.1->mp-api) (2.21)\n",
      "Defaulting to user installation because normal site-packages is not writeable\n",
      "Requirement already satisfied: pip in ./.local/lib/python3.9/site-packages (24.0)\n"
     ]
    }
   ],
   "source": [
    "!pip install mp-api --upgrade\n",
    "!python3.9 -m pip install --upgrade pip\n",
    "import numpy as np\n",
    "from mp_api.client import MPRester\n",
    "from pymatgen.symmetry.analyzer import SpacegroupAnalyzer\n",
    "from tabulate import tabulate\n"
   ]
  },
  {
   "cell_type": "code",
   "execution_count": 2,
   "id": "f6fc23d0",
   "metadata": {},
   "outputs": [],
   "source": [
    "mp_key = \"u9ZAHMoFazUCz7neZTBfXBwCZ5RESH4Z\"\n",
    "mp_id = \"mp-567636\""
   ]
  },
  {
   "cell_type": "code",
   "execution_count": 3,
   "id": "f7b80cb8",
   "metadata": {},
   "outputs": [
    {
     "data": {
      "application/vnd.jupyter.widget-view+json": {
       "model_id": "5e0c9827ee014964b6bf329fdb9d2aca",
       "version_major": 2,
       "version_minor": 0
      },
      "text/plain": [
       "Retrieving MaterialsDoc documents:   0%|          | 0/1 [00:00<?, ?it/s]"
      ]
     },
     "metadata": {},
     "output_type": "display_data"
    }
   ],
   "source": [
    "with MPRester(mp_key) as m:\n",
    "    prim_struc = m.get_structure_by_material_id(mp_id)\n",
    "conv_struc = SpacegroupAnalyzer(prim_struc).get_conventional_standard_structure()\n"
   ]
  },
  {
   "cell_type": "code",
   "execution_count": 4,
   "id": "de5bebfd",
   "metadata": {},
   "outputs": [
    {
     "name": "stdout",
     "output_type": "stream",
     "text": [
      "Caractéristiques géométriques :\n",
      "Full Formula (V1 Fe1 Sb1)\n",
      "Reduced Formula: VFeSb\n",
      "abc   :   4.068580   4.068580   4.068580\n",
      "angles:  60.000000  60.000000  60.000000\n",
      "pbc   :       True       True       True\n",
      "Sites (3)\n",
      "  #  SP       a     b     c\n",
      "---  ----  ----  ----  ----\n",
      "  0  V     0     0     0\n",
      "  1  Fe    0.25  0.25  0.25\n",
      "  2  Sb    0.5   0.5   0.5\n",
      "\n",
      "\n"
     ]
    }
   ],
   "source": [
    "#réseau direct\n",
    "directNetwork = prim_struc.lattice\n",
    "\n",
    "print(\"Caractéristiques géométriques :\")\n",
    "spa = SpacegroupAnalyzer(prim_struc,0.1)\n",
    "data = spa.get_primitive_standard_structure()\n",
    "print(data)\n",
    "print(\"\\n\")"
   ]
  },
  {
   "cell_type": "code",
   "execution_count": 5,
   "id": "cebaad92",
   "metadata": {},
   "outputs": [
    {
     "name": "stdout",
     "output_type": "stream",
     "text": [
      "Vecteurs de base du réseau direct :\n",
      "[[3.52349329 0.         2.0342898 ]\n",
      " [1.17449776 3.32198133 2.0342898 ]\n",
      " [0.         0.         4.0685796 ]]\n",
      "\n",
      "\n"
     ]
    }
   ],
   "source": [
    "#réseau direct\n",
    "directNetwork = prim_struc.lattice\n",
    "\n",
    "#calcul et affichage des vecteurs de base\n",
    "a=data.lattice.a\n",
    "alpha=data.lattice.alpha\n",
    "print(\"Vecteurs de base du réseau direct :\")\n",
    "print(SpacegroupAnalyzer(data).find_primitive().lattice.rhombohedral(a,alpha).matrix)\n",
    "print(\"\\n\")"
   ]
  },
  {
   "cell_type": "code",
   "execution_count": 6,
   "id": "753732cd",
   "metadata": {},
   "outputs": [
    {
     "name": "stdout",
     "output_type": "stream",
     "text": [
      "Vecteurs de base du réseau réciproque :\n",
      "[[ 1.78322613 -0.63046565  0.        ]\n",
      " [ 0.          1.89139694  0.        ]\n",
      " [-0.89161307 -0.63046565  1.54431913]]\n",
      "\n",
      "\n"
     ]
    }
   ],
   "source": [
    "#réseau réciproque\n",
    "reciprocalNetwork = prim_struc.lattice.reciprocal_lattice\n",
    "\n",
    "#calcul et affichage des vecteurs du réseau réciproque\n",
    "print(\"Vecteurs de base du réseau réciproque :\")\n",
    "print(spa.find_primitive().lattice.rhombohedral(a,alpha).reciprocal_lattice.matrix)\n",
    "print(\"\\n\")"
   ]
  },
  {
   "cell_type": "code",
   "execution_count": 7,
   "id": "09c3a24f",
   "metadata": {},
   "outputs": [
    {
     "name": "stdout",
     "output_type": "stream",
     "text": [
      "------------------  -----\n",
      "Type de maille      cubic\n",
      "Système cristallin  cubic\n",
      "Groupe ponctuel     -43m\n",
      "------------------  -----\n"
     ]
    }
   ],
   "source": [
    "#type de maille\n",
    "latticeType = spa.get_lattice_type()\n",
    "#système cristallin\n",
    "cristalSystem = spa.get_crystal_system()\n",
    "#groupe ponctuel\n",
    "pointGroup = spa.get_point_group_symbol()\n",
    "\n",
    "from tabulate import tabulate\n",
    "print(tabulate([\n",
    "\t[\"Type de maille\",str(latticeType)],\n",
    "\t[\"Système cristallin\",str(cristalSystem)],\n",
    "\t[\"Groupe ponctuel\",str(pointGroup)]]))"
   ]
  }
 ],
 "metadata": {
  "kernelspec": {
   "display_name": "Python 3 (ipykernel)",
   "language": "python",
   "name": "python3"
  },
  "language_info": {
   "codemirror_mode": {
    "name": "ipython",
    "version": 3
   },
   "file_extension": ".py",
   "mimetype": "text/x-python",
   "name": "python",
   "nbconvert_exporter": "python",
   "pygments_lexer": "ipython3",
   "version": "3.9.13"
  }
 },
 "nbformat": 4,
 "nbformat_minor": 5
}
